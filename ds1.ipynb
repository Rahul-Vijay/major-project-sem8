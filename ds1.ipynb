{
  "nbformat": 4,
  "nbformat_minor": 0,
  "metadata": {
    "kernelspec": {
      "display_name": "Python 3",
      "language": "python",
      "name": "python3"
    },
    "language_info": {
      "codemirror_mode": {
        "name": "ipython",
        "version": 3
      },
      "file_extension": ".py",
      "mimetype": "text/x-python",
      "name": "python",
      "nbconvert_exporter": "python",
      "pygments_lexer": "ipython3",
      "version": "3.7.4"
    },
    "colab": {
      "name": "ds1.ipynb",
      "provenance": [],
      "collapsed_sections": []
    }
  },
  "cells": [
    {
      "cell_type": "code",
      "metadata": {
        "id": "UHx61uunVBR4",
        "colab_type": "code",
        "colab": {}
      },
      "source": [
        "# import of necessary libraries\n",
        "import pandas as pd"
      ],
      "execution_count": 0,
      "outputs": []
    },
    {
      "cell_type": "code",
      "metadata": {
        "id": "OiJxFcs_VBSF",
        "colab_type": "code",
        "colab": {}
      },
      "source": [
        "df = pd.read_csv('df.csv')"
      ],
      "execution_count": 0,
      "outputs": []
    },
    {
      "cell_type": "code",
      "metadata": {
        "id": "S8MUovZnVBSN",
        "colab_type": "code",
        "outputId": "da6db1fb-9496-4a7b-f504-1d38dbb5023c",
        "colab": {
          "base_uri": "https://localhost:8080/",
          "height": 306
        }
      },
      "source": [
        "df.head()"
      ],
      "execution_count": 3,
      "outputs": [
        {
          "output_type": "execute_result",
          "data": {
            "text/html": [
              "<div>\n",
              "<style scoped>\n",
              "    .dataframe tbody tr th:only-of-type {\n",
              "        vertical-align: middle;\n",
              "    }\n",
              "\n",
              "    .dataframe tbody tr th {\n",
              "        vertical-align: top;\n",
              "    }\n",
              "\n",
              "    .dataframe thead th {\n",
              "        text-align: right;\n",
              "    }\n",
              "</style>\n",
              "<table border=\"1\" class=\"dataframe\">\n",
              "  <thead>\n",
              "    <tr style=\"text-align: right;\">\n",
              "      <th></th>\n",
              "      <th>SL. no</th>\n",
              "      <th>Crop</th>\n",
              "      <th>Season</th>\n",
              "      <th>Temperature in C</th>\n",
              "      <th>Organic Content in %</th>\n",
              "      <th>Moisture in %</th>\n",
              "      <th>fertiliser %</th>\n",
              "      <th>pesticide usage %</th>\n",
              "      <th>estimated quality</th>\n",
              "      <th>Nitrogen %</th>\n",
              "      <th>Phosphorous %</th>\n",
              "      <th>Potassium %</th>\n",
              "      <th>Yield</th>\n",
              "    </tr>\n",
              "  </thead>\n",
              "  <tbody>\n",
              "    <tr>\n",
              "      <th>0</th>\n",
              "      <td>1</td>\n",
              "      <td>Potato</td>\n",
              "      <td>Kharif &amp; Rabbi</td>\n",
              "      <td>26</td>\n",
              "      <td>31</td>\n",
              "      <td>38</td>\n",
              "      <td>66</td>\n",
              "      <td>35</td>\n",
              "      <td>53</td>\n",
              "      <td>0.101</td>\n",
              "      <td>0.450</td>\n",
              "      <td>0.615</td>\n",
              "      <td>61</td>\n",
              "    </tr>\n",
              "    <tr>\n",
              "      <th>1</th>\n",
              "      <td>2</td>\n",
              "      <td>Potato</td>\n",
              "      <td>Kharif &amp; Rabbi</td>\n",
              "      <td>30</td>\n",
              "      <td>54</td>\n",
              "      <td>35</td>\n",
              "      <td>46</td>\n",
              "      <td>45</td>\n",
              "      <td>72</td>\n",
              "      <td>0.116</td>\n",
              "      <td>0.490</td>\n",
              "      <td>0.806</td>\n",
              "      <td>77</td>\n",
              "    </tr>\n",
              "    <tr>\n",
              "      <th>2</th>\n",
              "      <td>3</td>\n",
              "      <td>Potato</td>\n",
              "      <td>Kharif &amp; Rabbi</td>\n",
              "      <td>36</td>\n",
              "      <td>24</td>\n",
              "      <td>35</td>\n",
              "      <td>58</td>\n",
              "      <td>52</td>\n",
              "      <td>47</td>\n",
              "      <td>0.041</td>\n",
              "      <td>0.520</td>\n",
              "      <td>0.692</td>\n",
              "      <td>64</td>\n",
              "    </tr>\n",
              "    <tr>\n",
              "      <th>3</th>\n",
              "      <td>4</td>\n",
              "      <td>Potato</td>\n",
              "      <td>Kharif &amp; Rabbi</td>\n",
              "      <td>28</td>\n",
              "      <td>24</td>\n",
              "      <td>67</td>\n",
              "      <td>65</td>\n",
              "      <td>56</td>\n",
              "      <td>44</td>\n",
              "      <td>0.115</td>\n",
              "      <td>0.464</td>\n",
              "      <td>0.606</td>\n",
              "      <td>72</td>\n",
              "    </tr>\n",
              "    <tr>\n",
              "      <th>4</th>\n",
              "      <td>5</td>\n",
              "      <td>Potato</td>\n",
              "      <td>Kharif &amp; Rabbi</td>\n",
              "      <td>27</td>\n",
              "      <td>71</td>\n",
              "      <td>63</td>\n",
              "      <td>28</td>\n",
              "      <td>61</td>\n",
              "      <td>42</td>\n",
              "      <td>0.093</td>\n",
              "      <td>0.587</td>\n",
              "      <td>0.821</td>\n",
              "      <td>68</td>\n",
              "    </tr>\n",
              "  </tbody>\n",
              "</table>\n",
              "</div>"
            ],
            "text/plain": [
              "   SL. no    Crop          Season  ...  Phosphorous %  Potassium %  Yield\n",
              "0       1  Potato  Kharif & Rabbi  ...          0.450        0.615     61\n",
              "1       2  Potato  Kharif & Rabbi  ...          0.490        0.806     77\n",
              "2       3  Potato  Kharif & Rabbi  ...          0.520        0.692     64\n",
              "3       4  Potato  Kharif & Rabbi  ...          0.464        0.606     72\n",
              "4       5  Potato  Kharif & Rabbi  ...          0.587        0.821     68\n",
              "\n",
              "[5 rows x 13 columns]"
            ]
          },
          "metadata": {
            "tags": []
          },
          "execution_count": 3
        }
      ]
    },
    {
      "cell_type": "code",
      "metadata": {
        "id": "5O2EUE3jVBSX",
        "colab_type": "code",
        "outputId": "5f1ba04e-f65c-45e3-f870-3445f01674b3",
        "colab": {
          "base_uri": "https://localhost:8080/",
          "height": 323
        }
      },
      "source": [
        "df.info()"
      ],
      "execution_count": 4,
      "outputs": [
        {
          "output_type": "stream",
          "text": [
            "<class 'pandas.core.frame.DataFrame'>\n",
            "RangeIndex: 15000 entries, 0 to 14999\n",
            "Data columns (total 13 columns):\n",
            "SL. no                  15000 non-null int64\n",
            "Crop                    15000 non-null object\n",
            "Season                  15000 non-null object\n",
            "Temperature in C        15000 non-null int64\n",
            "Organic Content in %    15000 non-null int64\n",
            "Moisture in %           15000 non-null int64\n",
            "fertiliser %            15000 non-null int64\n",
            "pesticide usage %       15000 non-null int64\n",
            "estimated quality       15000 non-null int64\n",
            "Nitrogen %              15000 non-null float64\n",
            "Phosphorous %           15000 non-null float64\n",
            "Potassium %             15000 non-null float64\n",
            "Yield                   15000 non-null int64\n",
            "dtypes: float64(3), int64(8), object(2)\n",
            "memory usage: 1.5+ MB\n"
          ],
          "name": "stdout"
        }
      ]
    },
    {
      "cell_type": "code",
      "metadata": {
        "id": "_gLcBgkNVBSe",
        "colab_type": "code",
        "outputId": "fdf09c16-f2a0-4a3f-9475-b01ea09b0e65",
        "colab": {
          "base_uri": "https://localhost:8080/",
          "height": 204
        }
      },
      "source": [
        "# drop unwanted columns \n",
        "df = df.drop(['SL. no', 'Crop', 'Season'], axis=1)\n",
        "df.head()"
      ],
      "execution_count": 5,
      "outputs": [
        {
          "output_type": "execute_result",
          "data": {
            "text/html": [
              "<div>\n",
              "<style scoped>\n",
              "    .dataframe tbody tr th:only-of-type {\n",
              "        vertical-align: middle;\n",
              "    }\n",
              "\n",
              "    .dataframe tbody tr th {\n",
              "        vertical-align: top;\n",
              "    }\n",
              "\n",
              "    .dataframe thead th {\n",
              "        text-align: right;\n",
              "    }\n",
              "</style>\n",
              "<table border=\"1\" class=\"dataframe\">\n",
              "  <thead>\n",
              "    <tr style=\"text-align: right;\">\n",
              "      <th></th>\n",
              "      <th>Temperature in C</th>\n",
              "      <th>Organic Content in %</th>\n",
              "      <th>Moisture in %</th>\n",
              "      <th>fertiliser %</th>\n",
              "      <th>pesticide usage %</th>\n",
              "      <th>estimated quality</th>\n",
              "      <th>Nitrogen %</th>\n",
              "      <th>Phosphorous %</th>\n",
              "      <th>Potassium %</th>\n",
              "      <th>Yield</th>\n",
              "    </tr>\n",
              "  </thead>\n",
              "  <tbody>\n",
              "    <tr>\n",
              "      <th>0</th>\n",
              "      <td>26</td>\n",
              "      <td>31</td>\n",
              "      <td>38</td>\n",
              "      <td>66</td>\n",
              "      <td>35</td>\n",
              "      <td>53</td>\n",
              "      <td>0.101</td>\n",
              "      <td>0.450</td>\n",
              "      <td>0.615</td>\n",
              "      <td>61</td>\n",
              "    </tr>\n",
              "    <tr>\n",
              "      <th>1</th>\n",
              "      <td>30</td>\n",
              "      <td>54</td>\n",
              "      <td>35</td>\n",
              "      <td>46</td>\n",
              "      <td>45</td>\n",
              "      <td>72</td>\n",
              "      <td>0.116</td>\n",
              "      <td>0.490</td>\n",
              "      <td>0.806</td>\n",
              "      <td>77</td>\n",
              "    </tr>\n",
              "    <tr>\n",
              "      <th>2</th>\n",
              "      <td>36</td>\n",
              "      <td>24</td>\n",
              "      <td>35</td>\n",
              "      <td>58</td>\n",
              "      <td>52</td>\n",
              "      <td>47</td>\n",
              "      <td>0.041</td>\n",
              "      <td>0.520</td>\n",
              "      <td>0.692</td>\n",
              "      <td>64</td>\n",
              "    </tr>\n",
              "    <tr>\n",
              "      <th>3</th>\n",
              "      <td>28</td>\n",
              "      <td>24</td>\n",
              "      <td>67</td>\n",
              "      <td>65</td>\n",
              "      <td>56</td>\n",
              "      <td>44</td>\n",
              "      <td>0.115</td>\n",
              "      <td>0.464</td>\n",
              "      <td>0.606</td>\n",
              "      <td>72</td>\n",
              "    </tr>\n",
              "    <tr>\n",
              "      <th>4</th>\n",
              "      <td>27</td>\n",
              "      <td>71</td>\n",
              "      <td>63</td>\n",
              "      <td>28</td>\n",
              "      <td>61</td>\n",
              "      <td>42</td>\n",
              "      <td>0.093</td>\n",
              "      <td>0.587</td>\n",
              "      <td>0.821</td>\n",
              "      <td>68</td>\n",
              "    </tr>\n",
              "  </tbody>\n",
              "</table>\n",
              "</div>"
            ],
            "text/plain": [
              "   Temperature in C  Organic Content in %  ...  Potassium %  Yield\n",
              "0                26                    31  ...        0.615     61\n",
              "1                30                    54  ...        0.806     77\n",
              "2                36                    24  ...        0.692     64\n",
              "3                28                    24  ...        0.606     72\n",
              "4                27                    71  ...        0.821     68\n",
              "\n",
              "[5 rows x 10 columns]"
            ]
          },
          "metadata": {
            "tags": []
          },
          "execution_count": 5
        }
      ]
    },
    {
      "cell_type": "code",
      "metadata": {
        "id": "ODA69-OXVBSl",
        "colab_type": "code",
        "colab": {}
      },
      "source": [
        "import numpy as np\n",
        "import matplotlib.pyplot as plt\n",
        "import seaborn as sns"
      ],
      "execution_count": 0,
      "outputs": []
    },
    {
      "cell_type": "code",
      "metadata": {
        "id": "32aikrnzVBSq",
        "colab_type": "code",
        "outputId": "53ea8f4c-dd93-478d-ed51-4c684411de8e",
        "colab": {
          "base_uri": "https://localhost:8080/",
          "height": 297
        }
      },
      "source": [
        "plt.figure(figsize=(12,4))\n",
        "sns.distplot(df['Yield'],bins=40)"
      ],
      "execution_count": 7,
      "outputs": [
        {
          "output_type": "execute_result",
          "data": {
            "text/plain": [
              "<matplotlib.axes._subplots.AxesSubplot at 0x7f63e4f49400>"
            ]
          },
          "metadata": {
            "tags": []
          },
          "execution_count": 7
        },
        {
          "output_type": "display_data",
          "data": {
            "image/png": "[encoded data removed]",
            "text/plain": [
              "<Figure size 864x288 with 1 Axes>"
            ]
          },
          "metadata": {
            "tags": []
          }
        }
      ]
    },
    {
      "cell_type": "code",
      "metadata": {
        "id": "W8bsF6fSVBSv",
        "colab_type": "code",
        "outputId": "b1b8d87c-6d20-40f7-9952-1d68311c3743",
        "colab": {
          "base_uri": "https://localhost:8080/",
          "height": 393
        }
      },
      "source": [
        "df.corr()"
      ],
      "execution_count": 8,
      "outputs": [
        {
          "output_type": "execute_result",
          "data": {
            "text/html": [
              "<div>\n",
              "<style scoped>\n",
              "    .dataframe tbody tr th:only-of-type {\n",
              "        vertical-align: middle;\n",
              "    }\n",
              "\n",
              "    .dataframe tbody tr th {\n",
              "        vertical-align: top;\n",
              "    }\n",
              "\n",
              "    .dataframe thead th {\n",
              "        text-align: right;\n",
              "    }\n",
              "</style>\n",
              "<table border=\"1\" class=\"dataframe\">\n",
              "  <thead>\n",
              "    <tr style=\"text-align: right;\">\n",
              "      <th></th>\n",
              "      <th>Temperature in C</th>\n",
              "      <th>Organic Content in %</th>\n",
              "      <th>Moisture in %</th>\n",
              "      <th>fertiliser %</th>\n",
              "      <th>pesticide usage %</th>\n",
              "      <th>estimated quality</th>\n",
              "      <th>Nitrogen %</th>\n",
              "      <th>Phosphorous %</th>\n",
              "      <th>Potassium %</th>\n",
              "      <th>Yield</th>\n",
              "    </tr>\n",
              "  </thead>\n",
              "  <tbody>\n",
              "    <tr>\n",
              "      <th>Temperature in C</th>\n",
              "      <td>1.000000</td>\n",
              "      <td>0.007393</td>\n",
              "      <td>0.003920</td>\n",
              "      <td>-0.003356</td>\n",
              "      <td>0.012499</td>\n",
              "      <td>-0.003157</td>\n",
              "      <td>0.008867</td>\n",
              "      <td>-0.001464</td>\n",
              "      <td>0.013690</td>\n",
              "      <td>0.002846</td>\n",
              "    </tr>\n",
              "    <tr>\n",
              "      <th>Organic Content in %</th>\n",
              "      <td>0.007393</td>\n",
              "      <td>1.000000</td>\n",
              "      <td>-0.002401</td>\n",
              "      <td>-0.771099</td>\n",
              "      <td>0.003294</td>\n",
              "      <td>0.585376</td>\n",
              "      <td>0.333643</td>\n",
              "      <td>0.510930</td>\n",
              "      <td>0.626375</td>\n",
              "      <td>0.606373</td>\n",
              "    </tr>\n",
              "    <tr>\n",
              "      <th>Moisture in %</th>\n",
              "      <td>0.003920</td>\n",
              "      <td>-0.002401</td>\n",
              "      <td>1.000000</td>\n",
              "      <td>-0.167352</td>\n",
              "      <td>-0.018947</td>\n",
              "      <td>0.069663</td>\n",
              "      <td>-0.008143</td>\n",
              "      <td>0.012131</td>\n",
              "      <td>0.006683</td>\n",
              "      <td>0.098861</td>\n",
              "    </tr>\n",
              "    <tr>\n",
              "      <th>fertiliser %</th>\n",
              "      <td>-0.003356</td>\n",
              "      <td>-0.771099</td>\n",
              "      <td>-0.167352</td>\n",
              "      <td>1.000000</td>\n",
              "      <td>-0.001074</td>\n",
              "      <td>-0.680009</td>\n",
              "      <td>-0.340431</td>\n",
              "      <td>-0.539596</td>\n",
              "      <td>-0.653016</td>\n",
              "      <td>-0.724249</td>\n",
              "    </tr>\n",
              "    <tr>\n",
              "      <th>pesticide usage %</th>\n",
              "      <td>0.012499</td>\n",
              "      <td>0.003294</td>\n",
              "      <td>-0.018947</td>\n",
              "      <td>-0.001074</td>\n",
              "      <td>1.000000</td>\n",
              "      <td>-0.410598</td>\n",
              "      <td>-0.003407</td>\n",
              "      <td>-0.006123</td>\n",
              "      <td>0.008055</td>\n",
              "      <td>-0.214644</td>\n",
              "    </tr>\n",
              "    <tr>\n",
              "      <th>estimated quality</th>\n",
              "      <td>-0.003157</td>\n",
              "      <td>0.585376</td>\n",
              "      <td>0.069663</td>\n",
              "      <td>-0.680009</td>\n",
              "      <td>-0.410598</td>\n",
              "      <td>1.000000</td>\n",
              "      <td>0.271549</td>\n",
              "      <td>0.409579</td>\n",
              "      <td>0.490316</td>\n",
              "      <td>0.746028</td>\n",
              "    </tr>\n",
              "    <tr>\n",
              "      <th>Nitrogen %</th>\n",
              "      <td>0.008867</td>\n",
              "      <td>0.333643</td>\n",
              "      <td>-0.008143</td>\n",
              "      <td>-0.340431</td>\n",
              "      <td>-0.003407</td>\n",
              "      <td>0.271549</td>\n",
              "      <td>1.000000</td>\n",
              "      <td>0.228382</td>\n",
              "      <td>0.282388</td>\n",
              "      <td>0.271298</td>\n",
              "    </tr>\n",
              "    <tr>\n",
              "      <th>Phosphorous %</th>\n",
              "      <td>-0.001464</td>\n",
              "      <td>0.510930</td>\n",
              "      <td>0.012131</td>\n",
              "      <td>-0.539596</td>\n",
              "      <td>-0.006123</td>\n",
              "      <td>0.409579</td>\n",
              "      <td>0.228382</td>\n",
              "      <td>1.000000</td>\n",
              "      <td>0.440066</td>\n",
              "      <td>0.427913</td>\n",
              "    </tr>\n",
              "    <tr>\n",
              "      <th>Potassium %</th>\n",
              "      <td>0.013690</td>\n",
              "      <td>0.626375</td>\n",
              "      <td>0.006683</td>\n",
              "      <td>-0.653016</td>\n",
              "      <td>0.008055</td>\n",
              "      <td>0.490316</td>\n",
              "      <td>0.282388</td>\n",
              "      <td>0.440066</td>\n",
              "      <td>1.000000</td>\n",
              "      <td>0.509869</td>\n",
              "    </tr>\n",
              "    <tr>\n",
              "      <th>Yield</th>\n",
              "      <td>0.002846</td>\n",
              "      <td>0.606373</td>\n",
              "      <td>0.098861</td>\n",
              "      <td>-0.724249</td>\n",
              "      <td>-0.214644</td>\n",
              "      <td>0.746028</td>\n",
              "      <td>0.271298</td>\n",
              "      <td>0.427913</td>\n",
              "      <td>0.509869</td>\n",
              "      <td>1.000000</td>\n",
              "    </tr>\n",
              "  </tbody>\n",
              "</table>\n",
              "</div>"
            ],
            "text/plain": [
              "                      Temperature in C  ...     Yield\n",
              "Temperature in C              1.000000  ...  0.002846\n",
              "Organic Content in %          0.007393  ...  0.606373\n",
              "Moisture in %                 0.003920  ...  0.098861\n",
              "fertiliser %                 -0.003356  ... -0.724249\n",
              "pesticide usage %             0.012499  ... -0.214644\n",
              "estimated quality            -0.003157  ...  0.746028\n",
              "Nitrogen %                    0.008867  ...  0.271298\n",
              "Phosphorous %                -0.001464  ...  0.427913\n",
              "Potassium %                   0.013690  ...  0.509869\n",
              "Yield                         0.002846  ...  1.000000\n",
              "\n",
              "[10 rows x 10 columns]"
            ]
          },
          "metadata": {
            "tags": []
          },
          "execution_count": 8
        }
      ]
    },
    {
      "cell_type": "code",
      "metadata": {
        "id": "CRqfiEJMVBS3",
        "colab_type": "code",
        "outputId": "0f91b19e-17cc-469e-e0d4-626ba50ab628",
        "colab": {
          "base_uri": "https://localhost:8080/",
          "height": 328
        }
      },
      "source": [
        "# from the above correlation we can say temperature \n",
        "# is not really affecting many continuous features\n",
        "# so no need for temperature\n",
        "df = df.drop(['Temperature in C'], axis=1)\n",
        "df.corr()"
      ],
      "execution_count": 9,
      "outputs": [
        {
          "output_type": "execute_result",
          "data": {
            "text/html": [
              "<div>\n",
              "<style scoped>\n",
              "    .dataframe tbody tr th:only-of-type {\n",
              "        vertical-align: middle;\n",
              "    }\n",
              "\n",
              "    .dataframe tbody tr th {\n",
              "        vertical-align: top;\n",
              "    }\n",
              "\n",
              "    .dataframe thead th {\n",
              "        text-align: right;\n",
              "    }\n",
              "</style>\n",
              "<table border=\"1\" class=\"dataframe\">\n",
              "  <thead>\n",
              "    <tr style=\"text-align: right;\">\n",
              "      <th></th>\n",
              "      <th>Organic Content in %</th>\n",
              "      <th>Moisture in %</th>\n",
              "      <th>fertiliser %</th>\n",
              "      <th>pesticide usage %</th>\n",
              "      <th>estimated quality</th>\n",
              "      <th>Nitrogen %</th>\n",
              "      <th>Phosphorous %</th>\n",
              "      <th>Potassium %</th>\n",
              "      <th>Yield</th>\n",
              "    </tr>\n",
              "  </thead>\n",
              "  <tbody>\n",
              "    <tr>\n",
              "      <th>Organic Content in %</th>\n",
              "      <td>1.000000</td>\n",
              "      <td>-0.002401</td>\n",
              "      <td>-0.771099</td>\n",
              "      <td>0.003294</td>\n",
              "      <td>0.585376</td>\n",
              "      <td>0.333643</td>\n",
              "      <td>0.510930</td>\n",
              "      <td>0.626375</td>\n",
              "      <td>0.606373</td>\n",
              "    </tr>\n",
              "    <tr>\n",
              "      <th>Moisture in %</th>\n",
              "      <td>-0.002401</td>\n",
              "      <td>1.000000</td>\n",
              "      <td>-0.167352</td>\n",
              "      <td>-0.018947</td>\n",
              "      <td>0.069663</td>\n",
              "      <td>-0.008143</td>\n",
              "      <td>0.012131</td>\n",
              "      <td>0.006683</td>\n",
              "      <td>0.098861</td>\n",
              "    </tr>\n",
              "    <tr>\n",
              "      <th>fertiliser %</th>\n",
              "      <td>-0.771099</td>\n",
              "      <td>-0.167352</td>\n",
              "      <td>1.000000</td>\n",
              "      <td>-0.001074</td>\n",
              "      <td>-0.680009</td>\n",
              "      <td>-0.340431</td>\n",
              "      <td>-0.539596</td>\n",
              "      <td>-0.653016</td>\n",
              "      <td>-0.724249</td>\n",
              "    </tr>\n",
              "    <tr>\n",
              "      <th>pesticide usage %</th>\n",
              "      <td>0.003294</td>\n",
              "      <td>-0.018947</td>\n",
              "      <td>-0.001074</td>\n",
              "      <td>1.000000</td>\n",
              "      <td>-0.410598</td>\n",
              "      <td>-0.003407</td>\n",
              "      <td>-0.006123</td>\n",
              "      <td>0.008055</td>\n",
              "      <td>-0.214644</td>\n",
              "    </tr>\n",
              "    <tr>\n",
              "      <th>estimated quality</th>\n",
              "      <td>0.585376</td>\n",
              "      <td>0.069663</td>\n",
              "      <td>-0.680009</td>\n",
              "      <td>-0.410598</td>\n",
              "      <td>1.000000</td>\n",
              "      <td>0.271549</td>\n",
              "      <td>0.409579</td>\n",
              "      <td>0.490316</td>\n",
              "      <td>0.746028</td>\n",
              "    </tr>\n",
              "    <tr>\n",
              "      <th>Nitrogen %</th>\n",
              "      <td>0.333643</td>\n",
              "      <td>-0.008143</td>\n",
              "      <td>-0.340431</td>\n",
              "      <td>-0.003407</td>\n",
              "      <td>0.271549</td>\n",
              "      <td>1.000000</td>\n",
              "      <td>0.228382</td>\n",
              "      <td>0.282388</td>\n",
              "      <td>0.271298</td>\n",
              "    </tr>\n",
              "    <tr>\n",
              "      <th>Phosphorous %</th>\n",
              "      <td>0.510930</td>\n",
              "      <td>0.012131</td>\n",
              "      <td>-0.539596</td>\n",
              "      <td>-0.006123</td>\n",
              "      <td>0.409579</td>\n",
              "      <td>0.228382</td>\n",
              "      <td>1.000000</td>\n",
              "      <td>0.440066</td>\n",
              "      <td>0.427913</td>\n",
              "    </tr>\n",
              "    <tr>\n",
              "      <th>Potassium %</th>\n",
              "      <td>0.626375</td>\n",
              "      <td>0.006683</td>\n",
              "      <td>-0.653016</td>\n",
              "      <td>0.008055</td>\n",
              "      <td>0.490316</td>\n",
              "      <td>0.282388</td>\n",
              "      <td>0.440066</td>\n",
              "      <td>1.000000</td>\n",
              "      <td>0.509869</td>\n",
              "    </tr>\n",
              "    <tr>\n",
              "      <th>Yield</th>\n",
              "      <td>0.606373</td>\n",
              "      <td>0.098861</td>\n",
              "      <td>-0.724249</td>\n",
              "      <td>-0.214644</td>\n",
              "      <td>0.746028</td>\n",
              "      <td>0.271298</td>\n",
              "      <td>0.427913</td>\n",
              "      <td>0.509869</td>\n",
              "      <td>1.000000</td>\n",
              "    </tr>\n",
              "  </tbody>\n",
              "</table>\n",
              "</div>"
            ],
            "text/plain": [
              "                      Organic Content in %  ...     Yield\n",
              "Organic Content in %              1.000000  ...  0.606373\n",
              "Moisture in %                    -0.002401  ...  0.098861\n",
              "fertiliser %                     -0.771099  ... -0.724249\n",
              "pesticide usage %                 0.003294  ... -0.214644\n",
              "estimated quality                 0.585376  ...  0.746028\n",
              "Nitrogen %                        0.333643  ...  0.271298\n",
              "Phosphorous %                     0.510930  ...  0.427913\n",
              "Potassium %                       0.626375  ...  0.509869\n",
              "Yield                             0.606373  ...  1.000000\n",
              "\n",
              "[9 rows x 9 columns]"
            ]
          },
          "metadata": {
            "tags": []
          },
          "execution_count": 9
        }
      ]
    },
    {
      "cell_type": "code",
      "metadata": {
        "id": "f8OtOTKpVBS8",
        "colab_type": "code",
        "outputId": "3bfb3358-75e6-40a5-dbc9-bb01b584521e",
        "colab": {
          "base_uri": "https://localhost:8080/",
          "height": 546
        }
      },
      "source": [
        "# visualise the correlation between variables\n",
        "plt.figure(figsize=(12,7))\n",
        "sns.heatmap(df.corr(),annot=True,cmap='viridis')\n",
        "plt.ylim(10, 0)"
      ],
      "execution_count": 10,
      "outputs": [
        {
          "output_type": "execute_result",
          "data": {
            "text/plain": [
              "(10, 0)"
            ]
          },
          "metadata": {
            "tags": []
          },
          "execution_count": 10
        },
        {
          "output_type": "display_data",
          "data": {
            "image/png": "[encoded data removed]",
            "text/plain": [
              "<Figure size 864x504 with 2 Axes>"
            ]
          },
          "metadata": {
            "tags": []
          }
        }
      ]
    },
    {
      "cell_type": "code",
      "metadata": {
        "id": "k9vGQ6gSVBTC",
        "colab_type": "code",
        "outputId": "cccd8d84-ae2c-4700-d2f4-00d92d8d89ab",
        "colab": {
          "base_uri": "https://localhost:8080/",
          "height": 296
        }
      },
      "source": [
        "sns.scatterplot(x='Organic Content in %',y='fertiliser %',data=df,)"
      ],
      "execution_count": 11,
      "outputs": [
        {
          "output_type": "execute_result",
          "data": {
            "text/plain": [
              "<matplotlib.axes._subplots.AxesSubplot at 0x7f63e0e6cd30>"
            ]
          },
          "metadata": {
            "tags": []
          },
          "execution_count": 11
        },
        {
          "output_type": "display_data",
          "data": {
            "image/png": "[encoded data removed]",
            "text/plain": [
              "<Figure size 432x288 with 1 Axes>"
            ]
          },
          "metadata": {
            "tags": []
          }
        }
      ]
    },
    {
      "cell_type": "code",
      "metadata": {
        "id": "43KJWEwmVBTK",
        "colab_type": "code",
        "outputId": "4fdf24dc-295b-49a7-907a-5f6e26741ecd",
        "colab": {
          "base_uri": "https://localhost:8080/",
          "height": 731
        }
      },
      "source": [
        "plt.figure(figsize=(12,12))\n",
        "sns.boxplot(x='fertiliser %',y='Yield',data=df)"
      ],
      "execution_count": 12,
      "outputs": [
        {
          "output_type": "execute_result",
          "data": {
            "text/plain": [
              "<matplotlib.axes._subplots.AxesSubplot at 0x7f63e0eb4da0>"
            ]
          },
          "metadata": {
            "tags": []
          },
          "execution_count": 12
        },
        {
          "output_type": "display_data",
          "data": {
            "image/png": "[encoded data removed]",
            "text/plain": [
              "<Figure size 864x864 with 1 Axes>"
            ]
          },
          "metadata": {
            "tags": []
          }
        }
      ]
    },
    {
      "cell_type": "code",
      "metadata": {
        "id": "e1tM3ZEoVBTP",
        "colab_type": "code",
        "outputId": "8fecdc51-6ca8-4cff-ca5c-3a985f1556f9",
        "colab": {
          "base_uri": "https://localhost:8080/",
          "height": 731
        }
      },
      "source": [
        "plt.figure(figsize=(12,12))\n",
        "sns.countplot(x='fertiliser %',data=df,hue='Yield')"
      ],
      "execution_count": 13,
      "outputs": [
        {
          "output_type": "execute_result",
          "data": {
            "text/plain": [
              "<matplotlib.axes._subplots.AxesSubplot at 0x7f63df0b19b0>"
            ]
          },
          "metadata": {
            "tags": []
          },
          "execution_count": 13
        },
        {
          "output_type": "display_data",
          "data": {
            "image/png": "[encoded data removed]",
            "text/plain": [
              "<Figure size 864x864 with 1 Axes>"
            ]
          },
          "metadata": {
            "tags": []
          }
        }
      ]
    },
    {
      "cell_type": "code",
      "metadata": {
        "id": "tq1bZr2jVBTT",
        "colab_type": "code",
        "outputId": "13421b39-0eb5-4738-9dfc-3e4cbeaae6e0",
        "colab": {
          "base_uri": "https://localhost:8080/",
          "height": 379
        }
      },
      "source": [
        "df.corr()['Yield'].sort_values().plot(kind='bar')"
      ],
      "execution_count": 14,
      "outputs": [
        {
          "output_type": "execute_result",
          "data": {
            "text/plain": [
              "<matplotlib.axes._subplots.AxesSubplot at 0x7f63dd8da4a8>"
            ]
          },
          "metadata": {
            "tags": []
          },
          "execution_count": 14
        },
        {
          "output_type": "display_data",
          "data": {
            "image/png": "[encoded data removed]",
            "text/plain": [
              "<Figure size 432x288 with 1 Axes>"
            ]
          },
          "metadata": {
            "tags": []
          }
        }
      ]
    },
    {
      "cell_type": "code",
      "metadata": {
        "id": "SK-_klY8VBTZ",
        "colab_type": "code",
        "outputId": "ab943718-f1de-4c37-9446-e7bb4068dfc2",
        "colab": {
          "base_uri": "https://localhost:8080/",
          "height": 380
        }
      },
      "source": [
        "df.corr()['Yield'].sort_values().drop('Yield').plot(kind='bar')"
      ],
      "execution_count": 15,
      "outputs": [
        {
          "output_type": "execute_result",
          "data": {
            "text/plain": [
              "<matplotlib.axes._subplots.AxesSubplot at 0x7f63dd7159b0>"
            ]
          },
          "metadata": {
            "tags": []
          },
          "execution_count": 15
        },
        {
          "output_type": "display_data",
          "data": {
            "image/png": "[encoded data removed]",
            "text/plain": [
              "<Figure size 432x288 with 1 Axes>"
            ]
          },
          "metadata": {
            "tags": []
          }
        }
      ]
    },
    {
      "cell_type": "code",
      "metadata": {
        "id": "HYTLl_UKVBTe",
        "colab_type": "code",
        "outputId": "d7f5d7d6-9254-41c9-e833-f4dc5ea72367",
        "colab": {
          "base_uri": "https://localhost:8080/",
          "height": 34
        }
      },
      "source": [
        "len(df)"
      ],
      "execution_count": 16,
      "outputs": [
        {
          "output_type": "execute_result",
          "data": {
            "text/plain": [
              "15000"
            ]
          },
          "metadata": {
            "tags": []
          },
          "execution_count": 16
        }
      ]
    },
    {
      "cell_type": "code",
      "metadata": {
        "id": "76emcGS3VBTi",
        "colab_type": "code",
        "outputId": "3b6f64a1-f12a-43f1-f1de-58383d424734",
        "colab": {
          "base_uri": "https://localhost:8080/",
          "height": 187
        }
      },
      "source": [
        "df.isnull().sum()"
      ],
      "execution_count": 17,
      "outputs": [
        {
          "output_type": "execute_result",
          "data": {
            "text/plain": [
              "Organic Content in %    0\n",
              "Moisture in %           0\n",
              "fertiliser %            0\n",
              "pesticide usage %       0\n",
              "estimated quality       0\n",
              "Nitrogen %              0\n",
              "Phosphorous %           0\n",
              "Potassium %             0\n",
              "Yield                   0\n",
              "dtype: int64"
            ]
          },
          "metadata": {
            "tags": []
          },
          "execution_count": 17
        }
      ]
    },
    {
      "cell_type": "code",
      "metadata": {
        "id": "iWAZzcPrfy-Q",
        "colab_type": "code",
        "outputId": "22e3d307-c106-4c45-fbef-5cd4f562ac56",
        "colab": {
          "base_uri": "https://localhost:8080/",
          "height": 204
        }
      },
      "source": [
        "# renaming of columns for better understanding and analysis\n",
        "df = df.rename(columns={\"Organic Content in %\":\"Organic\",\n",
        "                        \"Moisture in %\":\"Moisture\",\n",
        "                        \"Nitrogen %\":\"N\",\n",
        "                        \"Phosphorous %\":\"P\",\n",
        "                        \"Potassium %\": \"K\",\n",
        "                        \"fertiliser %\": \"Fertiliser\",\n",
        "                        \"pesticide usage %\": \"Pesticide\",\n",
        "                        \"estimated quality\":\"q\"})\n",
        "df.head()"
      ],
      "execution_count": 18,
      "outputs": [
        {
          "output_type": "execute_result",
          "data": {
            "text/html": [
              "<div>\n",
              "<style scoped>\n",
              "    .dataframe tbody tr th:only-of-type {\n",
              "        vertical-align: middle;\n",
              "    }\n",
              "\n",
              "    .dataframe tbody tr th {\n",
              "        vertical-align: top;\n",
              "    }\n",
              "\n",
              "    .dataframe thead th {\n",
              "        text-align: right;\n",
              "    }\n",
              "</style>\n",
              "<table border=\"1\" class=\"dataframe\">\n",
              "  <thead>\n",
              "    <tr style=\"text-align: right;\">\n",
              "      <th></th>\n",
              "      <th>Organic</th>\n",
              "      <th>Moisture</th>\n",
              "      <th>Fertiliser</th>\n",
              "      <th>Pesticide</th>\n",
              "      <th>q</th>\n",
              "      <th>N</th>\n",
              "      <th>P</th>\n",
              "      <th>K</th>\n",
              "      <th>Yield</th>\n",
              "    </tr>\n",
              "  </thead>\n",
              "  <tbody>\n",
              "    <tr>\n",
              "      <th>0</th>\n",
              "      <td>31</td>\n",
              "      <td>38</td>\n",
              "      <td>66</td>\n",
              "      <td>35</td>\n",
              "      <td>53</td>\n",
              "      <td>0.101</td>\n",
              "      <td>0.450</td>\n",
              "      <td>0.615</td>\n",
              "      <td>61</td>\n",
              "    </tr>\n",
              "    <tr>\n",
              "      <th>1</th>\n",
              "      <td>54</td>\n",
              "      <td>35</td>\n",
              "      <td>46</td>\n",
              "      <td>45</td>\n",
              "      <td>72</td>\n",
              "      <td>0.116</td>\n",
              "      <td>0.490</td>\n",
              "      <td>0.806</td>\n",
              "      <td>77</td>\n",
              "    </tr>\n",
              "    <tr>\n",
              "      <th>2</th>\n",
              "      <td>24</td>\n",
              "      <td>35</td>\n",
              "      <td>58</td>\n",
              "      <td>52</td>\n",
              "      <td>47</td>\n",
              "      <td>0.041</td>\n",
              "      <td>0.520</td>\n",
              "      <td>0.692</td>\n",
              "      <td>64</td>\n",
              "    </tr>\n",
              "    <tr>\n",
              "      <th>3</th>\n",
              "      <td>24</td>\n",
              "      <td>67</td>\n",
              "      <td>65</td>\n",
              "      <td>56</td>\n",
              "      <td>44</td>\n",
              "      <td>0.115</td>\n",
              "      <td>0.464</td>\n",
              "      <td>0.606</td>\n",
              "      <td>72</td>\n",
              "    </tr>\n",
              "    <tr>\n",
              "      <th>4</th>\n",
              "      <td>71</td>\n",
              "      <td>63</td>\n",
              "      <td>28</td>\n",
              "      <td>61</td>\n",
              "      <td>42</td>\n",
              "      <td>0.093</td>\n",
              "      <td>0.587</td>\n",
              "      <td>0.821</td>\n",
              "      <td>68</td>\n",
              "    </tr>\n",
              "  </tbody>\n",
              "</table>\n",
              "</div>"
            ],
            "text/plain": [
              "   Organic  Moisture  Fertiliser  Pesticide   q      N      P      K  Yield\n",
              "0       31        38          66         35  53  0.101  0.450  0.615     61\n",
              "1       54        35          46         45  72  0.116  0.490  0.806     77\n",
              "2       24        35          58         52  47  0.041  0.520  0.692     64\n",
              "3       24        67          65         56  44  0.115  0.464  0.606     72\n",
              "4       71        63          28         61  42  0.093  0.587  0.821     68"
            ]
          },
          "metadata": {
            "tags": []
          },
          "execution_count": 18
        }
      ]
    },
    {
      "cell_type": "code",
      "metadata": {
        "id": "tbXzO9CQf6Dn",
        "colab_type": "code",
        "colab": {}
      },
      "source": [
        "# check & change data type of Season_n, Crop_n, and the rest\n",
        "df['Organic'] = df['Organic'].astype(np.float64)\n",
        "df['Moisture'] = df['Moisture'].astype(np.float64)\n",
        "df['Fertiliser'] = df['Fertiliser'].astype(np.float64)\n",
        "df['Pesticide'] = df['Pesticide'].astype(np.float64)\n",
        "df['q'] = df['q'].astype(np.float64)\n",
        "df['Yield'] = df['Yield'].astype(np.float64)"
      ],
      "execution_count": 0,
      "outputs": []
    },
    {
      "cell_type": "code",
      "metadata": {
        "id": "8EckIC6AVBTm",
        "colab_type": "code",
        "colab": {}
      },
      "source": [
        "from sklearn.model_selection import train_test_split"
      ],
      "execution_count": 0,
      "outputs": []
    },
    {
      "cell_type": "code",
      "metadata": {
        "id": "imV0HxYbVBTq",
        "colab_type": "code",
        "colab": {}
      },
      "source": [
        "X = df.drop('Yield',axis=1)\n",
        "y = df['Yield']"
      ],
      "execution_count": 0,
      "outputs": []
    },
    {
      "cell_type": "code",
      "metadata": {
        "id": "0-tHNyuEXiqJ",
        "colab_type": "code",
        "outputId": "70db5e07-5089-4a37-c92a-c02207725dc7",
        "colab": {
          "base_uri": "https://localhost:8080/",
          "height": 419
        }
      },
      "source": [
        "X"
      ],
      "execution_count": 22,
      "outputs": [
        {
          "output_type": "execute_result",
          "data": {
            "text/html": [
              "<div>\n",
              "<style scoped>\n",
              "    .dataframe tbody tr th:only-of-type {\n",
              "        vertical-align: middle;\n",
              "    }\n",
              "\n",
              "    .dataframe tbody tr th {\n",
              "        vertical-align: top;\n",
              "    }\n",
              "\n",
              "    .dataframe thead th {\n",
              "        text-align: right;\n",
              "    }\n",
              "</style>\n",
              "<table border=\"1\" class=\"dataframe\">\n",
              "  <thead>\n",
              "    <tr style=\"text-align: right;\">\n",
              "      <th></th>\n",
              "      <th>Organic</th>\n",
              "      <th>Moisture</th>\n",
              "      <th>Fertiliser</th>\n",
              "      <th>Pesticide</th>\n",
              "      <th>q</th>\n",
              "      <th>N</th>\n",
              "      <th>P</th>\n",
              "      <th>K</th>\n",
              "    </tr>\n",
              "  </thead>\n",
              "  <tbody>\n",
              "    <tr>\n",
              "      <th>0</th>\n",
              "      <td>31.0</td>\n",
              "      <td>38.0</td>\n",
              "      <td>66.0</td>\n",
              "      <td>35.0</td>\n",
              "      <td>53.0</td>\n",
              "      <td>0.101</td>\n",
              "      <td>0.450</td>\n",
              "      <td>0.615</td>\n",
              "    </tr>\n",
              "    <tr>\n",
              "      <th>1</th>\n",
              "      <td>54.0</td>\n",
              "      <td>35.0</td>\n",
              "      <td>46.0</td>\n",
              "      <td>45.0</td>\n",
              "      <td>72.0</td>\n",
              "      <td>0.116</td>\n",
              "      <td>0.490</td>\n",
              "      <td>0.806</td>\n",
              "    </tr>\n",
              "    <tr>\n",
              "      <th>2</th>\n",
              "      <td>24.0</td>\n",
              "      <td>35.0</td>\n",
              "      <td>58.0</td>\n",
              "      <td>52.0</td>\n",
              "      <td>47.0</td>\n",
              "      <td>0.041</td>\n",
              "      <td>0.520</td>\n",
              "      <td>0.692</td>\n",
              "    </tr>\n",
              "    <tr>\n",
              "      <th>3</th>\n",
              "      <td>24.0</td>\n",
              "      <td>67.0</td>\n",
              "      <td>65.0</td>\n",
              "      <td>56.0</td>\n",
              "      <td>44.0</td>\n",
              "      <td>0.115</td>\n",
              "      <td>0.464</td>\n",
              "      <td>0.606</td>\n",
              "    </tr>\n",
              "    <tr>\n",
              "      <th>4</th>\n",
              "      <td>71.0</td>\n",
              "      <td>63.0</td>\n",
              "      <td>28.0</td>\n",
              "      <td>61.0</td>\n",
              "      <td>42.0</td>\n",
              "      <td>0.093</td>\n",
              "      <td>0.587</td>\n",
              "      <td>0.821</td>\n",
              "    </tr>\n",
              "    <tr>\n",
              "      <th>...</th>\n",
              "      <td>...</td>\n",
              "      <td>...</td>\n",
              "      <td>...</td>\n",
              "      <td>...</td>\n",
              "      <td>...</td>\n",
              "      <td>...</td>\n",
              "      <td>...</td>\n",
              "      <td>...</td>\n",
              "    </tr>\n",
              "    <tr>\n",
              "      <th>14995</th>\n",
              "      <td>33.0</td>\n",
              "      <td>38.0</td>\n",
              "      <td>66.0</td>\n",
              "      <td>42.0</td>\n",
              "      <td>57.0</td>\n",
              "      <td>0.118</td>\n",
              "      <td>0.506</td>\n",
              "      <td>0.746</td>\n",
              "    </tr>\n",
              "    <tr>\n",
              "      <th>14996</th>\n",
              "      <td>28.0</td>\n",
              "      <td>68.0</td>\n",
              "      <td>68.0</td>\n",
              "      <td>46.0</td>\n",
              "      <td>57.0</td>\n",
              "      <td>0.082</td>\n",
              "      <td>0.451</td>\n",
              "      <td>0.578</td>\n",
              "    </tr>\n",
              "    <tr>\n",
              "      <th>14997</th>\n",
              "      <td>48.0</td>\n",
              "      <td>40.0</td>\n",
              "      <td>80.0</td>\n",
              "      <td>50.0</td>\n",
              "      <td>31.0</td>\n",
              "      <td>0.089</td>\n",
              "      <td>0.395</td>\n",
              "      <td>0.697</td>\n",
              "    </tr>\n",
              "    <tr>\n",
              "      <th>14998</th>\n",
              "      <td>63.0</td>\n",
              "      <td>56.0</td>\n",
              "      <td>25.0</td>\n",
              "      <td>34.0</td>\n",
              "      <td>86.0</td>\n",
              "      <td>0.117</td>\n",
              "      <td>0.462</td>\n",
              "      <td>0.742</td>\n",
              "    </tr>\n",
              "    <tr>\n",
              "      <th>14999</th>\n",
              "      <td>36.0</td>\n",
              "      <td>56.0</td>\n",
              "      <td>76.0</td>\n",
              "      <td>58.0</td>\n",
              "      <td>44.0</td>\n",
              "      <td>0.083</td>\n",
              "      <td>0.408</td>\n",
              "      <td>0.759</td>\n",
              "    </tr>\n",
              "  </tbody>\n",
              "</table>\n",
              "<p>15000 rows × 8 columns</p>\n",
              "</div>"
            ],
            "text/plain": [
              "       Organic  Moisture  Fertiliser  Pesticide     q      N      P      K\n",
              "0         31.0      38.0        66.0       35.0  53.0  0.101  0.450  0.615\n",
              "1         54.0      35.0        46.0       45.0  72.0  0.116  0.490  0.806\n",
              "2         24.0      35.0        58.0       52.0  47.0  0.041  0.520  0.692\n",
              "3         24.0      67.0        65.0       56.0  44.0  0.115  0.464  0.606\n",
              "4         71.0      63.0        28.0       61.0  42.0  0.093  0.587  0.821\n",
              "...        ...       ...         ...        ...   ...    ...    ...    ...\n",
              "14995     33.0      38.0        66.0       42.0  57.0  0.118  0.506  0.746\n",
              "14996     28.0      68.0        68.0       46.0  57.0  0.082  0.451  0.578\n",
              "14997     48.0      40.0        80.0       50.0  31.0  0.089  0.395  0.697\n",
              "14998     63.0      56.0        25.0       34.0  86.0  0.117  0.462  0.742\n",
              "14999     36.0      56.0        76.0       58.0  44.0  0.083  0.408  0.759\n",
              "\n",
              "[15000 rows x 8 columns]"
            ]
          },
          "metadata": {
            "tags": []
          },
          "execution_count": 22
        }
      ]
    },
    {
      "cell_type": "code",
      "metadata": {
        "id": "2xWkhU-eXodL",
        "colab_type": "code",
        "outputId": "f0a7bb30-7671-4c43-cd4c-9485edb9e965",
        "colab": {
          "base_uri": "https://localhost:8080/",
          "height": 221
        }
      },
      "source": [
        "y"
      ],
      "execution_count": 23,
      "outputs": [
        {
          "output_type": "execute_result",
          "data": {
            "text/plain": [
              "0        61.0\n",
              "1        77.0\n",
              "2        64.0\n",
              "3        72.0\n",
              "4        68.0\n",
              "         ... \n",
              "14995    63.0\n",
              "14996    62.0\n",
              "14997    70.0\n",
              "14998    81.0\n",
              "14999    56.0\n",
              "Name: Yield, Length: 15000, dtype: float64"
            ]
          },
          "metadata": {
            "tags": []
          },
          "execution_count": 23
        }
      ]
    },
    {
      "cell_type": "code",
      "metadata": {
        "id": "eZX2sVZkVBTv",
        "colab_type": "code",
        "colab": {}
      },
      "source": [
        "X_train, X_test, y_train, y_test = train_test_split(X, y, test_size=0.15, random_state=101)"
      ],
      "execution_count": 0,
      "outputs": []
    },
    {
      "cell_type": "code",
      "metadata": {
        "id": "xJzm7Gj4YAco",
        "colab_type": "code",
        "outputId": "11983eeb-a2c5-48a1-9a98-3addeeb704b7",
        "colab": {
          "base_uri": "https://localhost:8080/",
          "height": 34
        }
      },
      "source": [
        "X_train.shape"
      ],
      "execution_count": 25,
      "outputs": [
        {
          "output_type": "execute_result",
          "data": {
            "text/plain": [
              "(12750, 8)"
            ]
          },
          "metadata": {
            "tags": []
          },
          "execution_count": 25
        }
      ]
    },
    {
      "cell_type": "code",
      "metadata": {
        "id": "cM818ENSVBTz",
        "colab_type": "code",
        "colab": {}
      },
      "source": [
        "# Normalise data to prevent data leak\n",
        "from sklearn.preprocessing import MinMaxScaler\n",
        "\n",
        "scaler = MinMaxScaler()\n",
        "X_train = scaler.fit_transform(X_train)\n",
        "X_test = scaler.transform(X_test)"
      ],
      "execution_count": 0,
      "outputs": []
    },
    {
      "cell_type": "code",
      "metadata": {
        "id": "a57X5zt-VBT3",
        "colab_type": "code",
        "colab": {
          "base_uri": "https://localhost:8080/",
          "height": 34
        },
        "outputId": "751270b8-287a-4957-9368-2b6399795b35"
      },
      "source": [
        "# Model creation\n",
        "%tensorflow_version 2.x\n",
        "import tensorflow as tf\n",
        "from tensorflow.keras.models import Sequential\n",
        "from tensorflow.keras.layers import Dense\n",
        "from tensorflow.keras.constraints import max_norm"
      ],
      "execution_count": 27,
      "outputs": [
        {
          "output_type": "stream",
          "text": [
            "TensorFlow 2.x selected.\n"
          ],
          "name": "stdout"
        }
      ]
    },
    {
      "cell_type": "code",
      "metadata": {
        "id": "4Fk5Tzs-VBT7",
        "colab_type": "code",
        "colab": {}
      },
      "source": [
        "model = Sequential()\n",
        "\n",
        "# input layer\n",
        "model.add(Dense(8,  activation='relu'))\n",
        "\n",
        "# hidden layer\n",
        "model.add(Dense(8, activation='relu'))\n",
        "\n",
        "# hidden layer\n",
        "model.add(Dense(8, activation='relu'))\n",
        "\n",
        "# hidden layer\n",
        "model.add(Dense(5, activation='relu'))\n",
        "model.add(Dense(3, activation='relu'))\n",
        "\n",
        "\n",
        "# output layer\n",
        "model.add(Dense(1))\n",
        "\n",
        "# Compile model\n",
        "model.compile(loss='mse', optimizer='adam')"
      ],
      "execution_count": 0,
      "outputs": []
    },
    {
      "cell_type": "code",
      "metadata": {
        "id": "yDNpsgl3VpbT",
        "colab_type": "code",
        "outputId": "fc10935c-2e71-4ebc-a2a3-b7970b66745d",
        "colab": {
          "base_uri": "https://localhost:8080/",
          "height": 1000
        }
      },
      "source": [
        "model.fit(x=X_train,y=y_train.values,\n",
        "          validation_data=(X_test,y_test.values),\n",
        "          batch_size=256,epochs=30)"
      ],
      "execution_count": 29,
      "outputs": [
        {
          "output_type": "stream",
          "text": [
            "Train on 12750 samples, validate on 2250 samples\n",
            "Epoch 1/30\n",
            "12750/12750 [==============================] - 1s 64us/sample - loss: 4908.7175 - val_loss: 4857.9269\n",
            "Epoch 2/30\n",
            "12750/12750 [==============================] - 0s 9us/sample - loss: 4722.6620 - val_loss: 4492.1769\n",
            "Epoch 3/30\n",
            "12750/12750 [==============================] - 0s 8us/sample - loss: 3936.9830 - val_loss: 3065.0055\n",
            "Epoch 4/30\n",
            "12750/12750 [==============================] - 0s 9us/sample - loss: 1734.9702 - val_loss: 435.5404\n",
            "Epoch 5/30\n",
            "12750/12750 [==============================] - 0s 9us/sample - loss: 156.6922 - val_loss: 108.8351\n",
            "Epoch 6/30\n",
            "12750/12750 [==============================] - 0s 8us/sample - loss: 102.9763 - val_loss: 104.6422\n",
            "Epoch 7/30\n",
            "12750/12750 [==============================] - 0s 8us/sample - loss: 100.1647 - val_loss: 101.9453\n",
            "Epoch 8/30\n",
            "12750/12750 [==============================] - 0s 8us/sample - loss: 97.5705 - val_loss: 99.2844\n",
            "Epoch 9/30\n",
            "12750/12750 [==============================] - 0s 8us/sample - loss: 94.9884 - val_loss: 96.6527\n",
            "Epoch 10/30\n",
            "12750/12750 [==============================] - 0s 11us/sample - loss: 92.5082 - val_loss: 94.1047\n",
            "Epoch 11/30\n",
            "12750/12750 [==============================] - 0s 8us/sample - loss: 90.0569 - val_loss: 91.6476\n",
            "Epoch 12/30\n",
            "12750/12750 [==============================] - 0s 8us/sample - loss: 87.7303 - val_loss: 89.2663\n",
            "Epoch 13/30\n",
            "12750/12750 [==============================] - 0s 8us/sample - loss: 85.4831 - val_loss: 86.9791\n",
            "Epoch 14/30\n",
            "12750/12750 [==============================] - 0s 8us/sample - loss: 83.3511 - val_loss: 84.8077\n",
            "Epoch 15/30\n",
            "12750/12750 [==============================] - 0s 8us/sample - loss: 81.2996 - val_loss: 82.7147\n",
            "Epoch 16/30\n",
            "12750/12750 [==============================] - 0s 8us/sample - loss: 79.3835 - val_loss: 80.7823\n",
            "Epoch 17/30\n",
            "12750/12750 [==============================] - 0s 8us/sample - loss: 77.5612 - val_loss: 78.8759\n",
            "Epoch 18/30\n",
            "12750/12750 [==============================] - 0s 10us/sample - loss: 75.7993 - val_loss: 77.1885\n",
            "Epoch 19/30\n",
            "12750/12750 [==============================] - 0s 9us/sample - loss: 74.2039 - val_loss: 75.4819\n",
            "Epoch 20/30\n",
            "12750/12750 [==============================] - 0s 8us/sample - loss: 72.6557 - val_loss: 73.8385\n",
            "Epoch 21/30\n",
            "12750/12750 [==============================] - 0s 8us/sample - loss: 71.1917 - val_loss: 72.3251\n",
            "Epoch 22/30\n",
            "12750/12750 [==============================] - 0s 9us/sample - loss: 69.8393 - val_loss: 70.9451\n",
            "Epoch 23/30\n",
            "12750/12750 [==============================] - 0s 8us/sample - loss: 68.5620 - val_loss: 69.6027\n",
            "Epoch 24/30\n",
            "12750/12750 [==============================] - 0s 8us/sample - loss: 67.3474 - val_loss: 68.4155\n",
            "Epoch 25/30\n",
            "12750/12750 [==============================] - 0s 9us/sample - loss: 66.2156 - val_loss: 67.2325\n",
            "Epoch 26/30\n",
            "12750/12750 [==============================] - 0s 9us/sample - loss: 65.1656 - val_loss: 66.0565\n",
            "Epoch 27/30\n",
            "12750/12750 [==============================] - 0s 8us/sample - loss: 64.1308 - val_loss: 65.0086\n",
            "Epoch 28/30\n",
            "12750/12750 [==============================] - 0s 9us/sample - loss: 63.1916 - val_loss: 64.0969\n",
            "Epoch 29/30\n",
            "12750/12750 [==============================] - 0s 9us/sample - loss: 62.3143 - val_loss: 63.3015\n",
            "Epoch 30/30\n",
            "12750/12750 [==============================] - 0s 9us/sample - loss: 61.5125 - val_loss: 62.2279\n"
          ],
          "name": "stdout"
        },
        {
          "output_type": "execute_result",
          "data": {
            "text/plain": [
              "<tensorflow.python.keras.callbacks.History at 0x7f635b5f74a8>"
            ]
          },
          "metadata": {
            "tags": []
          },
          "execution_count": 29
        }
      ]
    },
    {
      "cell_type": "code",
      "metadata": {
        "id": "mJVDi0gbVt1h",
        "colab_type": "code",
        "colab": {}
      },
      "source": [
        "from tensorflow.keras.models import load_model"
      ],
      "execution_count": 0,
      "outputs": []
    },
    {
      "cell_type": "code",
      "metadata": {
        "id": "fEtvkPytWEsT",
        "colab_type": "code",
        "colab": {}
      },
      "source": [
        "model.save('major_project_model.h5')  "
      ],
      "execution_count": 0,
      "outputs": []
    },
    {
      "cell_type": "code",
      "metadata": {
        "id": "SUfu1wsUWH9D",
        "colab_type": "code",
        "colab": {}
      },
      "source": [
        "losses = pd.DataFrame(model.history.history)"
      ],
      "execution_count": 0,
      "outputs": []
    },
    {
      "cell_type": "code",
      "metadata": {
        "id": "JUjBtE_tWM5P",
        "colab_type": "code",
        "outputId": "9e290c37-a9a9-44c3-814a-7298b4e9665f",
        "colab": {
          "base_uri": "https://localhost:8080/",
          "height": 282
        }
      },
      "source": [
        "losses[['loss','val_loss']].plot()"
      ],
      "execution_count": 33,
      "outputs": [
        {
          "output_type": "execute_result",
          "data": {
            "text/plain": [
              "<matplotlib.axes._subplots.AxesSubplot at 0x7f635acc3550>"
            ]
          },
          "metadata": {
            "tags": []
          },
          "execution_count": 33
        },
        {
          "output_type": "display_data",
          "data": {
            "image/png": "[encoded data removed]",
            "text/plain": [
              "<Figure size 432x288 with 1 Axes>"
            ]
          },
          "metadata": {
            "tags": []
          }
        }
      ]
    },
    {
      "cell_type": "code",
      "metadata": {
        "id": "WOFkfpCjWOpX",
        "colab_type": "code",
        "colab": {}
      },
      "source": [
        "# Model evaluation\n",
        "from sklearn.metrics import classification_report,confusion_matrix,mean_squared_error,mean_absolute_error,explained_variance_score\n",
        "predictions = model.predict(X_test)"
      ],
      "execution_count": 0,
      "outputs": []
    },
    {
      "cell_type": "code",
      "metadata": {
        "id": "WXNODbFPgGrs",
        "colab_type": "code",
        "outputId": "8df73945-c560-4b26-8b19-e214a05aeb4f",
        "colab": {
          "base_uri": "https://localhost:8080/",
          "height": 136
        }
      },
      "source": [
        "predictions"
      ],
      "execution_count": 35,
      "outputs": [
        {
          "output_type": "execute_result",
          "data": {
            "text/plain": [
              "array([[82.890015],\n",
              "       [57.233837],\n",
              "       [55.503155],\n",
              "       ...,\n",
              "       [81.69966 ],\n",
              "       [64.59298 ],\n",
              "       [71.155136]], dtype=float32)"
            ]
          },
          "metadata": {
            "tags": []
          },
          "execution_count": 35
        }
      ]
    },
    {
      "cell_type": "code",
      "metadata": {
        "id": "ja4s0vztXSO-",
        "colab_type": "code",
        "outputId": "a8aa2368-6c08-4606-a3b6-4c9a05e22979",
        "colab": {
          "base_uri": "https://localhost:8080/",
          "height": 34
        }
      },
      "source": [
        "mean_absolute_error(y_test,predictions)"
      ],
      "execution_count": 36,
      "outputs": [
        {
          "output_type": "execute_result",
          "data": {
            "text/plain": [
              "6.262698933919271"
            ]
          },
          "metadata": {
            "tags": []
          },
          "execution_count": 36
        }
      ]
    },
    {
      "cell_type": "code",
      "metadata": {
        "id": "B68OpqChZ-B0",
        "colab_type": "code",
        "outputId": "f99ad06d-8a0f-44fd-ee08-b2720a08da70",
        "colab": {
          "base_uri": "https://localhost:8080/",
          "height": 34
        }
      },
      "source": [
        "np.sqrt(mean_squared_error(y_test,predictions))"
      ],
      "execution_count": 37,
      "outputs": [
        {
          "output_type": "execute_result",
          "data": {
            "text/plain": [
              "7.888469366491972"
            ]
          },
          "metadata": {
            "tags": []
          },
          "execution_count": 37
        }
      ]
    },
    {
      "cell_type": "code",
      "metadata": {
        "id": "P9aOAeAUaJaR",
        "colab_type": "code",
        "outputId": "b099f52c-6ba4-4032-ccfc-841cca5a5bf0",
        "colab": {
          "base_uri": "https://localhost:8080/",
          "height": 34
        }
      },
      "source": [
        "explained_variance_score(y_test,predictions)"
      ],
      "execution_count": 38,
      "outputs": [
        {
          "output_type": "execute_result",
          "data": {
            "text/plain": [
              "0.3129636776062499"
            ]
          },
          "metadata": {
            "tags": []
          },
          "execution_count": 38
        }
      ]
    },
    {
      "cell_type": "code",
      "metadata": {
        "id": "wGCLuRtNaLyf",
        "colab_type": "code",
        "outputId": "d8f1d237-c9d1-415f-cfe7-3357a03da2e7",
        "colab": {
          "base_uri": "https://localhost:8080/",
          "height": 282
        }
      },
      "source": [
        "# Our predictions\n",
        "plt.scatter(y_test,predictions)\n",
        "\n",
        "# Perfect predictions\n",
        "plt.plot(y_test,y_test,'r')"
      ],
      "execution_count": 39,
      "outputs": [
        {
          "output_type": "execute_result",
          "data": {
            "text/plain": [
              "[<matplotlib.lines.Line2D at 0x7f6359c2c5f8>]"
            ]
          },
          "metadata": {
            "tags": []
          },
          "execution_count": 39
        },
        {
          "output_type": "display_data",
          "data": {
            "image/png": "[encoded data removed]",
            "text/plain": [
              "<Figure size 432x288 with 1 Axes>"
            ]
          },
          "metadata": {
            "tags": []
          }
        }
      ]
    },
    {
      "cell_type": "code",
      "metadata": {
        "id": "BXYUeRBraTPe",
        "colab_type": "code",
        "outputId": "2ea406b1-19e9-479e-b350-59d918ad7eec",
        "colab": {
          "base_uri": "https://localhost:8080/",
          "height": 170
        }
      },
      "source": [
        "p1 = df.drop('Yield',axis=1).iloc[0]\n",
        "p1"
      ],
      "execution_count": 40,
      "outputs": [
        {
          "output_type": "execute_result",
          "data": {
            "text/plain": [
              "Organic       31.000\n",
              "Moisture      38.000\n",
              "Fertiliser    66.000\n",
              "Pesticide     35.000\n",
              "q             53.000\n",
              "N              0.101\n",
              "P              0.450\n",
              "K              0.615\n",
              "Name: 0, dtype: float64"
            ]
          },
          "metadata": {
            "tags": []
          },
          "execution_count": 40
        }
      ]
    },
    {
      "cell_type": "code",
      "metadata": {
        "id": "kKrjOrm2haMm",
        "colab_type": "code",
        "colab": {}
      },
      "source": [
        "p1 = scaler.transform(p1.values.reshape(-1, 8))"
      ],
      "execution_count": 0,
      "outputs": []
    },
    {
      "cell_type": "code",
      "metadata": {
        "id": "-049FJ4Ohixb",
        "colab_type": "code",
        "outputId": "e4d6371a-fc4d-402b-ac81-24192956fc44",
        "colab": {
          "base_uri": "https://localhost:8080/",
          "height": 51
        }
      },
      "source": [
        "p1"
      ],
      "execution_count": 42,
      "outputs": [
        {
          "output_type": "execute_result",
          "data": {
            "text/plain": [
              "array([[0.16666667, 0.11764706, 0.73684211, 0.10344828, 0.40350877,\n",
              "        0.61      , 0.34782609, 0.30645161]])"
            ]
          },
          "metadata": {
            "tags": []
          },
          "execution_count": 42
        }
      ]
    },
    {
      "cell_type": "code",
      "metadata": {
        "id": "W7KfmnaEhjwT",
        "colab_type": "code",
        "outputId": "b2c47784-c754-4d1a-8331-fb7156301b38",
        "colab": {
          "base_uri": "https://localhost:8080/",
          "height": 34
        }
      },
      "source": [
        "model.predict(p1)"
      ],
      "execution_count": 43,
      "outputs": [
        {
          "output_type": "execute_result",
          "data": {
            "text/plain": [
              "array([[58.273228]], dtype=float32)"
            ]
          },
          "metadata": {
            "tags": []
          },
          "execution_count": 43
        }
      ]
    },
    {
      "cell_type": "code",
      "metadata": {
        "id": "31yCT5sYhnHb",
        "colab_type": "code",
        "outputId": "7bef6d06-7a9c-475e-cd95-425be6cd2764",
        "colab": {
          "base_uri": "https://localhost:8080/",
          "height": 187
        }
      },
      "source": [
        "df.iloc[0]"
      ],
      "execution_count": 44,
      "outputs": [
        {
          "output_type": "execute_result",
          "data": {
            "text/plain": [
              "Organic       31.000\n",
              "Moisture      38.000\n",
              "Fertiliser    66.000\n",
              "Pesticide     35.000\n",
              "q             53.000\n",
              "N              0.101\n",
              "P              0.450\n",
              "K              0.615\n",
              "Yield         61.000\n",
              "Name: 0, dtype: float64"
            ]
          },
          "metadata": {
            "tags": []
          },
          "execution_count": 44
        }
      ]
    },
    {
      "cell_type": "code",
      "metadata": {
        "id": "uqMs6wiqhr9y",
        "colab_type": "code",
        "colab": {}
      },
      "source": [
        "p = model.predict(p1)\n",
        "v = df.iloc[0][8]"
      ],
      "execution_count": 0,
      "outputs": []
    },
    {
      "cell_type": "code",
      "metadata": {
        "id": "0YkViNNZiN6n",
        "colab_type": "code",
        "outputId": "e3e86b0d-dbd9-4e78-dfb4-9420db3b93f8",
        "colab": {
          "base_uri": "https://localhost:8080/",
          "height": 34
        }
      },
      "source": [
        "v"
      ],
      "execution_count": 46,
      "outputs": [
        {
          "output_type": "execute_result",
          "data": {
            "text/plain": [
              "61.0"
            ]
          },
          "metadata": {
            "tags": []
          },
          "execution_count": 46
        }
      ]
    },
    {
      "cell_type": "code",
      "metadata": {
        "id": "oPF6V4i2iOi1",
        "colab_type": "code",
        "outputId": "3dced526-f8b0-40a4-d38a-7c2c5bf4d3db",
        "colab": {
          "base_uri": "https://localhost:8080/",
          "height": 34
        }
      },
      "source": [
        "p[0][0]"
      ],
      "execution_count": 47,
      "outputs": [
        {
          "output_type": "execute_result",
          "data": {
            "text/plain": [
              "58.273228"
            ]
          },
          "metadata": {
            "tags": []
          },
          "execution_count": 47
        }
      ]
    },
    {
      "cell_type": "code",
      "metadata": {
        "id": "wxErtygQiPVp",
        "colab_type": "code",
        "outputId": "7f9af0bf-fb00-4057-a77c-2076b04267bf",
        "colab": {
          "base_uri": "https://localhost:8080/",
          "height": 51
        }
      },
      "source": [
        "print(f'Predicted Value- {p[0][0]}')\n",
        "print(f'Actual Value- {v}')"
      ],
      "execution_count": 48,
      "outputs": [
        {
          "output_type": "stream",
          "text": [
            "Predicted Value- 58.27322769165039\n",
            "Actual Value- 61.0\n"
          ],
          "name": "stdout"
        }
      ]
    }
  ]
}